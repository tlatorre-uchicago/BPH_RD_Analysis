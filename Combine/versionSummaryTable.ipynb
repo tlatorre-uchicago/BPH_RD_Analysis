{
 "cells": [
  {
   "cell_type": "code",
   "execution_count": 1,
   "metadata": {
    "ExecuteTime": {
     "end_time": "2022-03-18T01:00:36.607998Z",
     "start_time": "2022-03-18T01:00:36.554472Z"
    }
   },
   "outputs": [],
   "source": [
    "import sys, os, pickle, time, json, yaml, re\n",
    "from glob import glob\n",
    "from prettytable import PrettyTable"
   ]
  },
  {
   "cell_type": "code",
   "execution_count": 2,
   "metadata": {
    "ExecuteTime": {
     "end_time": "2022-03-18T01:00:36.663398Z",
     "start_time": "2022-03-18T01:00:36.614397Z"
    }
   },
   "outputs": [],
   "source": [
    "results_dir = os.environ['HOME'] + '/public_html/BPH_RDst/Combine/'\n",
    "version = '14_1'\n",
    "cat = 'comb'"
   ]
  },
  {
   "cell_type": "code",
   "execution_count": 3,
   "metadata": {
    "ExecuteTime": {
     "end_time": "2022-03-18T01:00:36.722254Z",
     "start_time": "2022-03-18T01:00:36.669902Z"
    }
   },
   "outputs": [
    {
     "name": "stdout",
     "output_type": "stream",
     "text": [
      "/storage/af/user/ocerri/public_html/BPH_RDst/Combine/v14_1_1D_Est_mu_comb_CLN_blinded\n",
      "/storage/af/user/ocerri/public_html/BPH_RDst/Combine/v14_1_1D_M2miss_comb_CLN_blinded\n",
      "/storage/af/user/ocerri/public_html/BPH_RDst/Combine/v14_1_comb_CLN_blinded\n",
      "/storage/af/user/ocerri/public_html/BPH_RDst/Combine/v14_1_muIso_leq80_comb_CLN_blinded\n",
      "/storage/af/user/ocerri/public_html/BPH_RDst/Combine/v14_1_muIso_leq80_noPM_comb_CLN_blinded\n"
     ]
    }
   ],
   "source": [
    "dirs = glob(results_dir + '*'+version+'*'+cat+'*')\n",
    "auxDirs = []\n",
    "for d in sorted(dirs):\n",
    "    if (not os.path.basename(d).startswith('v'+version+'_')) and (not os.path.basename(d).startswith(version+'_')):\n",
    "        continue\n",
    "#     if not 'base' in d and not 'noLostHits_mVisPM_3p8' in d:\n",
    "#         continue\n",
    "    auxDirs.append(d)\n",
    "    print d\n",
    "dirs = auxDirs"
   ]
  },
  {
   "cell_type": "code",
   "execution_count": 4,
   "metadata": {
    "ExecuteTime": {
     "end_time": "2022-03-18T01:00:36.803929Z",
     "start_time": "2022-03-18T01:00:36.729225Z"
    }
   },
   "outputs": [],
   "source": [
    "# dirs.pop(1)\n",
    "# dirs = [dirs[0], dirs[2], dirs[1]]"
   ]
  },
  {
   "cell_type": "code",
   "execution_count": 5,
   "metadata": {
    "ExecuteTime": {
     "end_time": "2022-03-18T01:00:36.889224Z",
     "start_time": "2022-03-18T01:00:36.811241Z"
    },
    "code_folding": []
   },
   "outputs": [
    {
     "name": "stdout",
     "output_type": "stream",
     "text": [
      "v14_1_1D_Est_mu_comb_CLN_blinded\n",
      "v14_1_1D_M2miss_comb_CLN_blinded\n",
      "v14_1_comb_CLN_blinded\n",
      "v14_1_muIso_leq80_comb_CLN_blinded\n",
      "v14_1_muIso_leq80_noPM_comb_CLN_blinded\n"
     ]
    }
   ],
   "source": [
    "table = PrettyTable()\n",
    "table.field_names = ['Version', 'Sat pval', 'Scan [%]', 'Cat comp', 'Top pulls','[sigma]']\n",
    "table.align['Top pulls'] = 'l'\n",
    "table.align['[sigma]'] = 'r'\n",
    "\n",
    "for dd in dirs:\n",
    "    print os.path.basename(dd)\n",
    "    \n",
    "    tag = os.path.basename(dd)\n",
    "    tag = tag[tag.find(version+'_')+len(version+'_'):]\n",
    "    tag = tag[:tag.find(cat)]\n",
    "    tag = tag.replace('noLostHits_', '')\n",
    "    if tag.endswith('_'):\n",
    "        tag = tag[:-1]\n",
    "#     print tag\n",
    "\n",
    "\n",
    "    GoF_file = dd + '/GoF_results.txt'\n",
    "    pval_sat = '-'\n",
    "    if os.path.isfile(GoF_file):\n",
    "        with open(GoF_file) as f:\n",
    "            for line in reversed(f.readlines()):\n",
    "                if 'algoSat' in line:\n",
    "                    break\n",
    "            data = [x for x in line.split(' ') if x]\n",
    "            data[2] = data[2][1:-2]\n",
    "            if float(data[2]) > 0:\n",
    "                pval_sat = data[2] + '%'\n",
    "            else:\n",
    "                pval_sat = 'x{:.2f}'.format(float(data[1])/float(data[-2]))\n",
    "#     print pval_sat\n",
    "\n",
    "\n",
    "    scan_file = dd + '/scan_results.txt'\n",
    "    scan_result = '-'\n",
    "    if os.path.isfile(scan_file):\n",
    "        with open(scan_file) as f:\n",
    "            line = f.readlines()[-1]\n",
    "            data = [x for x in line.split(' ') if x]\n",
    "            err = float(data[2][1:]) + float(data[4][1:])\n",
    "            scan_result = '{:.1f} +/- {:.1f}'.format(100*float(data[1]), 100*err*0.5)\n",
    "#     print scan_result\n",
    "\n",
    "    catComp_file = dd + '/categoriesCompatibility.txt'\n",
    "    catComp = '-'\n",
    "    if os.path.isfile(catComp_file):\n",
    "        with open(catComp_file) as f:\n",
    "            line = f.readlines()[-1]\n",
    "            catComp = line.split(' ')[-1][1:-5] + '%'\n",
    "#     print catComp\n",
    "\n",
    "    pulls_file = dd + '/scanNuisanceOut_Base.txt'\n",
    "    nPulls = 5\n",
    "    pulls = ['-']*nPulls\n",
    "    if os.path.isfile(pulls_file):\n",
    "        with open(pulls_file) as f:\n",
    "            for i, line in enumerate(f.readlines()[3:nPulls+3]):\n",
    "                pulls[i] = [x for x in line[:-1].replace('|', '').split(' ') if x]\n",
    "#     for p in pulls:\n",
    "#         print p\n",
    "\n",
    "    if dd != dirs[0]:\n",
    "        table.add_row(len(table.field_names)*[''])\n",
    "    table.add_row([tag, pval_sat, scan_result, catComp, pulls[0][0], pulls[0][1]])\n",
    "    for i in range(1, len(pulls)):\n",
    "        table.add_row(['', '', '', '', pulls[i][0], pulls[i][1]])"
   ]
  },
  {
   "cell_type": "code",
   "execution_count": 6,
   "metadata": {
    "ExecuteTime": {
     "end_time": "2022-03-18T01:00:36.978336Z",
     "start_time": "2022-03-18T01:00:36.894258Z"
    }
   },
   "outputs": [
    {
     "name": "stdout",
     "output_type": "stream",
     "text": [
      "+------------------+----------+-------------+----------+-------------------------------+---------+\n",
      "|     Version      | Sat pval |   Scan [%]  | Cat comp | Top pulls                     | [sigma] |\n",
      "+------------------+----------+-------------+----------+-------------------------------+---------+\n",
      "|    1D_Est_mu     |   0.5%   | 0.0 +/- 1.1 |   100%   | B2DstCLNeig2                  |    2.39 |\n",
      "|                  |          |             |          | prop_binlow_ctrl_mm_mHad_bin1 |   -2.16 |\n",
      "|                  |          |             |          | brDstPiPi_D2Sst               |    2.07 |\n",
      "|                  |          |             |          | brBd_DstDuKst                 |   -1.99 |\n",
      "|                  |          |             |          | brB_D2420MuNu                 |    1.93 |\n",
      "|                  |          |             |          |                               |         |\n",
      "|    1D_M2miss     |   0.2%   | 0.0 +/- 1.8 |   100%   | prop_binlow_ctrl_mm_mHad_bin1 |   -2.15 |\n",
      "|                  |          |             |          | prop_binmid_ctrl_mm_mHad_bin6 |   -1.98 |\n",
      "|                  |          |             |          | brB_D2420MuNu                 |    1.84 |\n",
      "|                  |          |             |          | brBd_DstDuKst                 |   -1.83 |\n",
      "|                  |          |             |          | DstKBr                        |   -1.80 |\n",
      "|                  |          |             |          |                               |         |\n",
      "|                  |   0.2%   | 0.0 +/- 2.1 |   100%   | B2DstCLNeig2                  |    3.38 |\n",
      "|                  |          |             |          | prop_binlow_ctrl_mm_mHad_bin1 |   -2.16 |\n",
      "|                  |          |             |          | brB_D2420MuNu                 |    2.15 |\n",
      "|                  |          |             |          | prop_binmid_ctrl_mm_mHad_bin6 |   -1.90 |\n",
      "|                  |          |             |          | brDstPiPi_D2Sst               |    1.85 |\n",
      "|                  |          |             |          |                               |         |\n",
      "|   muIso_leq80    |   0.7%   | 0.0 +/- 1.1 |   100%   | B2DstCLNeig2                  |    2.72 |\n",
      "|                  |          |             |          | prop_binlow_ctrl_mm_mHad_bin1 |   -2.15 |\n",
      "|                  |          |             |          | brB_D2420MuNu                 |    2.12 |\n",
      "|                  |          |             |          | brBd_DstDuKst                 |   -2.12 |\n",
      "|                  |          |             |          | brDstPiPi_D2Sst               |    1.97 |\n",
      "|                  |          |             |          |                               |         |\n",
      "| muIso_leq80_noPM |   3.7%   | 0.0 +/- 2.6 |   100%   | B2DstCLNeig2                  |    2.54 |\n",
      "|                  |          |             |          | brB_D2420MuNu                 |    1.96 |\n",
      "|                  |          |             |          | prop_binlow_ctrl_mm_mHad_bin1 |   -1.94 |\n",
      "|                  |          |             |          | FF_B2DststN_BLReig2           |    1.90 |\n",
      "|                  |          |             |          | brBd_DstDsstLow               |   -1.65 |\n",
      "+------------------+----------+-------------+----------+-------------------------------+---------+\n"
     ]
    }
   ],
   "source": [
    "print table"
   ]
  },
  {
   "cell_type": "code",
   "execution_count": 7,
   "metadata": {
    "ExecuteTime": {
     "end_time": "2022-03-18T01:00:37.185765Z",
     "start_time": "2022-03-18T01:00:36.984739Z"
    }
   },
   "outputs": [],
   "source": [
    "# outfile = results_dir + 'summary_table_{}_{}.txt'.format(version, cat)\n",
    "# os.system('date > '+outfile)\n",
    "# with open(outfile, 'a') as f:\n",
    "#     f.write(table.get_string())\n",
    "    \n",
    "# with open(outfile[:-4]+'.html', 'w') as f:\n",
    "#     f.write(table.get_html_string())"
   ]
  }
 ],
 "metadata": {
  "kernelspec": {
   "display_name": "Python 2",
   "language": "python",
   "name": "python2"
  },
  "language_info": {
   "codemirror_mode": {
    "name": "ipython",
    "version": 2
   },
   "file_extension": ".py",
   "mimetype": "text/x-python",
   "name": "python",
   "nbconvert_exporter": "python",
   "pygments_lexer": "ipython2",
   "version": "2.7.14+"
  },
  "varInspector": {
   "cols": {
    "lenName": 16,
    "lenType": 16,
    "lenVar": 40
   },
   "kernels_config": {
    "python": {
     "delete_cmd_postfix": "",
     "delete_cmd_prefix": "del ",
     "library": "var_list.py",
     "varRefreshCmd": "print(var_dic_list())"
    },
    "r": {
     "delete_cmd_postfix": ") ",
     "delete_cmd_prefix": "rm(",
     "library": "var_list.r",
     "varRefreshCmd": "cat(var_dic_list()) "
    }
   },
   "types_to_exclude": [
    "module",
    "function",
    "builtin_function_or_method",
    "instance",
    "_Feature"
   ],
   "window_display": false
  }
 },
 "nbformat": 4,
 "nbformat_minor": 2
}
