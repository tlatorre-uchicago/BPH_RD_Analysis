{
 "cells": [
  {
   "cell_type": "markdown",
   "metadata": {},
   "source": [
    "Notebook to collect the information of the generation"
   ]
  },
  {
   "cell_type": "markdown",
   "metadata": {},
   "source": [
    "### Import"
   ]
  },
  {
   "cell_type": "code",
   "execution_count": 1,
   "metadata": {
    "ExecuteTime": {
     "end_time": "2022-03-15T22:33:15.048493Z",
     "start_time": "2022-03-15T22:33:14.787131Z"
    }
   },
   "outputs": [],
   "source": [
    "import sys, os, re, yaml, pickle\n",
    "import commands\n",
    "from glob import glob\n",
    "from prettytable import PrettyTable\n",
    "sys.path.append('../lib')\n",
    "\n",
    "import time, datetime"
   ]
  },
  {
   "cell_type": "code",
   "execution_count": 2,
   "metadata": {
    "ExecuteTime": {
     "end_time": "2022-03-15T22:33:15.442173Z",
     "start_time": "2022-03-15T22:33:15.052653Z"
    }
   },
   "outputs": [],
   "source": [
    "import signal\n",
    "\n",
    "class TimeoutError(Exception):\n",
    "    pass\n",
    "\n",
    "class timeout:\n",
    "    def __init__(self, seconds=1, error_message='Timeout'):\n",
    "        self.seconds = seconds\n",
    "        self.error_message = error_message\n",
    "    def handle_timeout(self, signum, frame):\n",
    "        raise TimeoutError(self.error_message)\n",
    "    def __enter__(self):\n",
    "        signal.signal(signal.SIGALRM, self.handle_timeout)\n",
    "        signal.alarm(self.seconds)\n",
    "    def __exit__(self, type, value, traceback):\n",
    "        signal.alarm(0)\n",
    "\n",
    "# with timeout(seconds=1):\n",
    "#     try:\n",
    "#         time.sleep(2)\n",
    "#     except TimeoutError:\n",
    "#         print 'Got it'"
   ]
  },
  {
   "cell_type": "code",
   "execution_count": 3,
   "metadata": {
    "ExecuteTime": {
     "end_time": "2022-03-15T22:33:17.303081Z",
     "start_time": "2022-03-15T22:33:15.449353Z"
    }
   },
   "outputs": [],
   "source": [
    "import numpy as np\n",
    "from scipy.stats import mode\n",
    "import matplotlib.pyplot as plt\n",
    "from prettytable import PrettyTable\n",
    "from progressBar import ProgressBar"
   ]
  },
  {
   "cell_type": "code",
   "execution_count": 4,
   "metadata": {
    "ExecuteTime": {
     "end_time": "2022-03-15T22:33:22.625307Z",
     "start_time": "2022-03-15T22:33:17.309164Z"
    }
   },
   "outputs": [
    {
     "name": "stdout",
     "output_type": "stream",
     "text": [
      "Welcome to JupyROOT 6.12/07\n"
     ]
    }
   ],
   "source": [
    "import uproot as ur\n",
    "import ROOT as rt\n",
    "rt.gErrorIgnoreLevel = rt.kError\n",
    "rt.RooMsgService.instance().setGlobalKillBelow(rt.RooFit.ERROR)"
   ]
  },
  {
   "cell_type": "code",
   "execution_count": 5,
   "metadata": {
    "ExecuteTime": {
     "end_time": "2022-03-15T22:33:22.851686Z",
     "start_time": "2022-03-15T22:33:22.630320Z"
    }
   },
   "outputs": [],
   "source": [
    "# load FWLite C++ libraries\n",
    "rt.gSystem.Load(\"libFWCoreFWLite.so\");\n",
    "rt.gSystem.Load(\"libDataFormatsFWLite.so\");\n",
    "rt.FWLiteEnabler.enable()\n",
    "\n",
    "# load FWlite python libraries\n",
    "from DataFormats.FWLite import Lumis\n",
    "from DataFormats.FWLite import Handle\n",
    "# import commands"
   ]
  },
  {
   "cell_type": "code",
   "execution_count": 6,
   "metadata": {
    "ExecuteTime": {
     "end_time": "2022-03-15T22:33:23.286753Z",
     "start_time": "2022-03-15T22:33:22.858394Z"
    }
   },
   "outputs": [],
   "source": [
    "from analysis_utilities import DSetLoader"
   ]
  },
  {
   "cell_type": "markdown",
   "metadata": {},
   "source": [
    "# Inputs"
   ]
  },
  {
   "cell_type": "markdown",
   "metadata": {},
   "source": [
    "Max 3 dataset per time otherwise run out of memory"
   ]
  },
  {
   "cell_type": "code",
   "execution_count": 7,
   "metadata": {
    "ExecuteTime": {
     "end_time": "2022-03-15T22:33:23.307294Z",
     "start_time": "2022-03-15T22:33:23.291240Z"
    }
   },
   "outputs": [],
   "source": [
    "# order = ['mu_c0', 'tau_c0',\n",
    "#          'DstPip_c0', 'DstPi0_c0', 'DststPipPi0_c0', 'DststPipPim_c0', 'DststPi0Pi0_c0', \n",
    "#          'Bp_TauNuDstst_Pip_PUc0', 'B0_TauNuDstst_Pi0_PUc0',\n",
    "#          'DstmDsp','DstmD0','DstmDp','BpHc','BmHc','antiB0Hc',\n",
    "#         ]"
   ]
  },
  {
   "cell_type": "code",
   "execution_count": 8,
   "metadata": {
    "ExecuteTime": {
     "end_time": "2022-03-15T22:33:23.349088Z",
     "start_time": "2022-03-15T22:33:23.312124Z"
    }
   },
   "outputs": [],
   "source": [
    "inDic = {}"
   ]
  },
  {
   "cell_type": "code",
   "execution_count": 9,
   "metadata": {
    "ExecuteTime": {
     "end_time": "2022-03-15T22:33:24.308868Z",
     "start_time": "2022-03-15T22:33:23.356556Z"
    }
   },
   "outputs": [
    {
     "name": "stdout",
     "output_type": "stream",
     "text": [
      "CAND efficiency file missing for Bd_MuNuDst.\n",
      "CAND efficiency file missing for Bd_TauNuDst.\n",
      "CAND efficiency file missing for Bu_MuNuDstPi.\n",
      "CAND efficiency file missing for Bd_MuNuDstPi.\n",
      "CAND efficiency file missing for Bu_MuNuDstPiPi_v3.\n",
      "CAND efficiency file missing for Bd_MuNuDstPiPi_v3.\n",
      "CAND efficiency file missing for Bu_TauNuDstPi.\n",
      "CAND efficiency file missing for Bd_TauNuDstPi.\n",
      "CAND efficiency file missing for Bd_TauNuDstPiPi.\n",
      "CAND efficiency file missing for Bu_TauNuDstPiPi.\n",
      "CAND efficiency file missing for Bs_MuNuDstK.\n",
      "CAND efficiency file missing for Bs_TauNuDstK.\n",
      "CAND efficiency file missing for Bd_DstDu.\n",
      "CAND efficiency file missing for Bd_DstDd.\n",
      "CAND efficiency file missing for Bd_DstDs.\n",
      "CAND efficiency file missing for Bu_DstDu.\n",
      "CAND efficiency file missing for Bu_DstDd.\n",
      "CAND efficiency file missing for Bs_DstDs.\n",
      "CAND efficiency file missing for Bd_DDs1.\n",
      "CAND efficiency file missing for Bu_DDs1.\n",
      "CAND efficiency file missing for B_DstDXX.\n"
     ]
    }
   ],
   "source": [
    "candDir = 'ntuples_B2DstMu_220311'\n",
    "######## Signals\n",
    "inDic['Bd_MuNuDst'] = DSetLoader('Bd_MuNuDst', candDir=candDir)\n",
    "inDic['Bd_TauNuDst'] = DSetLoader('Bd_TauNuDst', candDir=candDir)\n",
    "####### D** background\n",
    "inDic['Bu_MuDstPi'] = DSetLoader('Bu_MuNuDstPi', candDir=candDir)\n",
    "inDic['Bd_MuDstPi'] = DSetLoader('Bd_MuNuDstPi', candDir=candDir)\n",
    "inDic['Bu_MuDstPiPi_v3'] = DSetLoader('Bu_MuNuDstPiPi_v3', candDir=candDir)\n",
    "inDic['Bd_MuDstPiPi_v3'] = DSetLoader('Bd_MuNuDstPiPi_v3', candDir=candDir)\n",
    "inDic['Bu_TauDstPi'] = DSetLoader('Bu_TauNuDstPi', candDir=candDir)\n",
    "inDic['Bd_TauDstPi'] = DSetLoader('Bd_TauNuDstPi', candDir=candDir)\n",
    "inDic['Bd_TauDstPiPi'] = DSetLoader('Bd_TauNuDstPiPi', candDir=candDir)\n",
    "inDic['Bu_TauDstPiPi'] = DSetLoader('Bu_TauNuDstPiPi', candDir=candDir)\n",
    "inDic['Bs_MuDstK'] = DSetLoader('Bs_MuNuDstK', candDir=candDir)\n",
    "inDic['Bs_TauDstK'] = DSetLoader('Bs_TauNuDstK', candDir=candDir)\n",
    "\n",
    "####### D*Hc background\n",
    "inDic['Bd_DstDu'] = DSetLoader('Bd_DstDu', candDir=candDir)\n",
    "inDic['Bd_DstDd'] = DSetLoader('Bd_DstDd', candDir=candDir)\n",
    "inDic['Bd_DstDs'] = DSetLoader('Bd_DstDs', candDir=candDir)\n",
    "inDic['Bu_DstDu'] = DSetLoader('Bu_DstDu', candDir=candDir)\n",
    "inDic['Bu_DstDd'] = DSetLoader('Bu_DstDd', candDir=candDir)\n",
    "inDic['Bs_DstDs'] = DSetLoader('Bs_DstDs', candDir=candDir)\n",
    "inDic['Bd_DDs1'] = DSetLoader('Bd_DDs1', candDir=candDir)\n",
    "inDic['Bu_DDs1'] = DSetLoader('Bu_DDs1', candDir=candDir)\n",
    "inDic['B_DstDXX'] = DSetLoader('B_DstDXX', candDir=candDir)\n",
    "\n",
    "######## Others background\n",
    "# inDic['DstKu_KuToMu'] = DSetLoader('DstKu_KuToMu', candDir='ntuples_B2DstMu_211118')"
   ]
  },
  {
   "cell_type": "code",
   "execution_count": 10,
   "metadata": {
    "ExecuteTime": {
     "end_time": "2022-03-15T22:33:24.327633Z",
     "start_time": "2022-03-15T22:33:24.312989Z"
    }
   },
   "outputs": [],
   "source": [
    "# inDic['JPsiKst'] = DSetLoader('Bd_JpsiKst_General', candDir='ntuples_Bd2JpsiKst_220228')"
   ]
  },
  {
   "cell_type": "code",
   "execution_count": 11,
   "metadata": {
    "ExecuteTime": {
     "end_time": "2022-03-15T22:33:24.364319Z",
     "start_time": "2022-03-15T22:33:24.333121Z"
    },
    "hide_input": true
   },
   "outputs": [],
   "source": [
    "# inDic['muHQET_0'] = DSetLoader('B0_MuNuDmst_HQETcentral_PU0')\n",
    "# inDic['mu_0'] = DSetLoader('B0_MuNuDmst_PU0')\n",
    "# inDic['mu_20'] = DSetLoader('B0_MuNuDmst_PU20')\n",
    "# inDic['mu_c0'] = DSetLoader('B0_MuNuDmst_PUc0')\n",
    "# inDic['muSoft_c0'] = DSetLoader('B0_MuNuDmst_SoftQCDall_PUc0')\n",
    "# inDic['mu_35'] = DSetLoader('B0_MuNuDmst_PU35')\n",
    "\n",
    "# inDic['tau_0'] = DSetLoader('B0_TauNuDmst_PU0')\n",
    "# inDic['tau_20'] = DSetLoader('B0_TauNuDmst_PU20')\n",
    "# inDic['tau_c0'] = DSetLoader('B0_TauNuDmst_PUc0')\n",
    "# inDic['tau_35'] = DSetLoader('B0_TauNuDmst_PU35')\n",
    "\n",
    "# inDic['Hc_20'] = DSetLoader('B0_DmstHc_PU20')\n",
    "# inDic['Hc_c0'] = DSetLoader('B0_DmstHc_PUc0')\n",
    "\n",
    "\n",
    "# inDic['DstmDsp'] = DSetLoader('B0_DstmDsp_PUc0')\n",
    "\n",
    "# inDic['DstmDp'] = DSetLoader('B0_DstmDp_PUc0')\n",
    "\n",
    "# inDic['DstmD0'] = DSetLoader('B0_DstmD0_PUc0')\n",
    "\n",
    "# inDic['BpHc'] = DSetLoader('Bp_DstmHc_PUc0')\n",
    "\n",
    "# inDic['BmHc'] = DSetLoader('Bm_DstmHc_PUc0')\n",
    "\n",
    "# inDic['antiB0Hc'] = DSetLoader('antiB0_DstmHc_PUc0')\n",
    "\n",
    "\n",
    "# inDic['DstPip_20'] = DSetLoader('Bp_MuNuDstst_PU20')\n",
    "# inDic['DstPip_c0'] = DSetLoader('Bp_MuNuDstst_Pip_PUc0')\n",
    "\n",
    "# inDic['DstPi0_c0'] = DSetLoader('B0_MuNuDstst_Pi0_PUc0')\n",
    "\n",
    "# inDic['DstPi0_nR_c0'] = DSetLoader('B0_DmstPi0MuNu_PUc0')\n",
    "\n",
    "# inDic['DststPipPi0_c0'] = DSetLoader('Bp_MuNuDstst_PipPi0_PUc0')\n",
    "# inDic['DststPipPi0_nR_c0'] = DSetLoader('Bp_MuNuDstPipPi0_PUc0')\n",
    "\n",
    "# inDic['DststPipPim_c0'] = DSetLoader('B0_MuNuDstst_PipPim_PUc0')\n",
    "# inDic['DststPipPim_nR_c0'] = DSetLoader('B0_MuNuDstPipPim_PUc0')\n",
    "\n",
    "# inDic['DststPi0Pi0_c0'] = DSetLoader('B0_MuNuDstst_Pi0Pi0_PUc0')\n",
    "\n",
    "# inDic['B0_DststPiPiPi_c0'] = DSetLoader('B0_MuNuDstPiPiPi_PUc0')\n",
    "\n",
    "# inDic['Bp_DststPiPiPi_c0'] = DSetLoader('Bp_MuNuDstPiPiPi_PUc0')\n",
    "\n",
    "# inDic['B0_TauNuDstst_Pi0_PUc0'] = DSetLoader('B0_TauNuDstst_Pi0_PUc0')\n",
    "\n",
    "# inDic['Bp_TauNuDstst_Pip_PUc0'] = DSetLoader('Bp_TauNuDstst_Pip_PUc0')"
   ]
  },
  {
   "cell_type": "code",
   "execution_count": 12,
   "metadata": {
    "ExecuteTime": {
     "end_time": "2022-03-15T22:33:24.438045Z",
     "start_time": "2022-03-15T22:33:24.371218Z"
    },
    "hide_input": true
   },
   "outputs": [],
   "source": [
    "# inDic['mu_0'] = DSetLoader('B0_MuNuDmst_PU0', candDir='ntuples_probeB2DstMu')\n",
    "# inDic['p_mu_c0'] = DSetLoader('p_B0_MuNuDst_PUc0', candDir='ntuples_probeB2DstMu')\n",
    "# inDic['p_tau_c0'] = DSetLoader('p_B0_TauNuDst_PUc0', candDir='ntuples_probeB2DstMu')"
   ]
  },
  {
   "cell_type": "code",
   "execution_count": 13,
   "metadata": {
    "ExecuteTime": {
     "end_time": "2022-03-15T22:33:24.505336Z",
     "start_time": "2022-03-15T22:33:24.444992Z"
    },
    "hide_input": true
   },
   "outputs": [],
   "source": [
    "# inDic['JPsiKst_0'] = DSetLoader('B0_JpsiKst_PU0', candDir='ntuples_B2JpsiKst')\n",
    "# inDic['JPsiKst_20'] = DSetLoader('B0_JpsiKst_PU20', candDir='ntuples_B2JpsiKst')\n",
    "# inDic['JPsiKst_35'] = DSetLoader('B0_JpsiKst_PU35', candDir='ntuples_B2JpsiKst')\n",
    "\n",
    "# inDic['JPsiKstFSR_20'] = DSetLoader('B0_JpsiKstFSR_PU20', candDir='ntuples_B2JpsiKst')\n",
    "# inDic['JPsiKst_c0'] = DSetLoader('B0_JpsiKst_PUc0', candDir='ntuples_B2JpsiKst')\n",
    "# inDic['JPsiKst_c0'] = DSetLoader('B0_JpsiX_SoftQCD_PU20', candDir='ntuples_B2JpsiKst')\n",
    "\n",
    "# inDic['JPsiK_c0'] = DSetLoader('Bp_JpsiK_PUc0', candDir='ntuples_B2JpsiK')"
   ]
  },
  {
   "cell_type": "markdown",
   "metadata": {},
   "source": [
    "# Efficiency"
   ]
  },
  {
   "cell_type": "code",
   "execution_count": 14,
   "metadata": {
    "ExecuteTime": {
     "end_time": "2022-03-15T22:33:24.558715Z",
     "start_time": "2022-03-15T22:33:24.512805Z"
    }
   },
   "outputs": [],
   "source": [
    "def getEff(k,N):\n",
    "    e = k/float(N)\n",
    "    de = np.sqrt(e*(1-e)/N)\n",
    "    return [e, de]"
   ]
  },
  {
   "cell_type": "markdown",
   "metadata": {},
   "source": [
    "## Generator Efficiency"
   ]
  },
  {
   "cell_type": "code",
   "execution_count": 15,
   "metadata": {
    "ExecuteTime": {
     "end_time": "2022-03-15T22:33:26.684546Z",
     "start_time": "2022-03-15T22:33:24.565922Z"
    }
   },
   "outputs": [],
   "source": [
    "handle = {}\n",
    "handle['genFilter'] = [Handle('GenFilterInfo'), ('genFilterEfficiencyProducer', '', 'SIM')]\n",
    "handle['genProduct'] = [Handle('GenLumiInfoProduct'), ('generator', '', 'SIM')]"
   ]
  },
  {
   "cell_type": "code",
   "execution_count": 16,
   "metadata": {
    "ExecuteTime": {
     "end_time": "2022-03-15T22:33:26.748738Z",
     "start_time": "2022-03-15T22:33:26.689499Z"
    },
    "code_folding": []
   },
   "outputs": [],
   "source": [
    "def analyzeMINIAODs(fileList):  \n",
    "    print 'Analizing', len(fileList), 'MINIAOD'\n",
    "    N_gen = 0\n",
    "    N_cuts = 0\n",
    "    xsec = []\n",
    "    xsec_err = []\n",
    "    pb = ProgressBar(maxEntry=len(fileList))\n",
    "    skippedFiles = []\n",
    "    for i_j, fileName in enumerate(fileList):\n",
    "        if not os.path.exists(fileName):\n",
    "            fileName = 'root://cmsxrootd.fnal.gov/' + fileName\n",
    "        pb.show(i_j)\n",
    "        with timeout(seconds=30):\n",
    "            try:\n",
    "#                 cmd = 'python generatorEfficiency_MINIAODSIM.py ' + fileName\n",
    "#                 status, output = commands.getstatusoutput(cmd)\n",
    "#                 aux = output.split(' ')\n",
    "#                 N_gen += float(aux[0])\n",
    "#                 N_cuts += float(aux[1])\n",
    "#                 xsec.append(float(aux[2]))\n",
    "#                 xsec_err.append(float(aux[4]))\n",
    "                for lumi in Lumis(fileName):\n",
    "                    prods = {}\n",
    "                    for k,v in handle.iteritems():\n",
    "                        lumi.getByLabel(v[1], v[0])\n",
    "                        prods[k] = v[0].product()\n",
    "                    N_cuts += prods['genFilter'].numEventsPassed()\n",
    "                    N_gen += prods['genFilter'].numEventsTotal()\n",
    "                    xs = prods['genProduct'].getProcessInfos()[0].lheXSec()\n",
    "                    xsec.append(xs.value())\n",
    "                    xsec_err.append(xs.error())\n",
    "            except TimeoutError:\n",
    "                skippedFiles.append(fileName)\n",
    "    print 'Skipped {} files'.format(len(skippedFiles))\n",
    "    print 'Total events in analyzed MINIAODs', N_cuts\n",
    "    xsec = np.array(xsec)\n",
    "    xsec_err = np.array(xsec_err)\n",
    "    return N_gen, N_cuts, xsec, xsec_err"
   ]
  },
  {
   "cell_type": "code",
   "execution_count": 17,
   "metadata": {
    "ExecuteTime": {
     "end_time": "2022-03-15T22:33:56.387573Z",
     "start_time": "2022-03-15T22:33:26.757130Z"
    }
   },
   "outputs": [
    {
     "name": "stdout",
     "output_type": "stream",
     "text": [
      "\n",
      "\n",
      "--> Bs_TauNuDstK\n",
      "Already present\n",
      "{'xsec': [456677828218.53046, 36048904.2320488], 'effGEN': [0.0005487288964862666, 1.8562417474426523e-06]}\n",
      "\n",
      "\n",
      "--> Bu_DDs1\n",
      "Already present\n",
      "{'xsec': [456686943057.41876, 83229104.563922], 'effGEN': [0.000976998768554236, 5.717205077212203e-06]}\n",
      "\n",
      "\n",
      "--> Bs_DstDs\n",
      "Already present\n",
      "{'xsec': [456662294635.436, 17549797.316052377], 'effGEN': [0.0005269860252243413, 8.856350272401264e-07]}\n",
      "\n",
      "\n",
      "--> Bd_TauNuDstPi\n",
      "Already present\n",
      "{'xsec': [456627934865.00574, 33695681.406900726], 'effGEN': [0.0019594178212750325, 3.2767437737953146e-06]}\n",
      "\n",
      "\n",
      "--> Bd_DstDd\n",
      "Already present\n",
      "{'xsec': [456655173314.66113, 30405401.275802836], 'effGEN': [0.0015570839557767558, 2.636168842865786e-06]}\n",
      "\n",
      "\n",
      "--> Bs_MuNuDstK\n",
      "Already present\n",
      "{'xsec': [456726488997.22565, 36573692.07147653], 'effGEN': [0.0023048419118000766, 3.855897991944063e-06]}\n",
      "\n",
      "\n",
      "--> Bd_MuNuDstPi\n",
      "Already present\n",
      "{'xsec': [456744006710.3446, 66325418.73642332], 'effGEN': [0.00757017976646805, 1.2638682968523077e-05]}\n",
      "\n",
      "\n",
      "--> Bd_MuNuDstPiPi_v3\n",
      "Already present\n",
      "{'xsec': [456575472892.70526, 83212782.27491288], 'effGEN': [0.005156072937918303, 1.3107102093328713e-05]}\n",
      "\n",
      "\n",
      "--> Bu_TauNuDstPi\n",
      "Already present\n",
      "{'xsec': [456607782758.73895, 32462737.00095621], 'effGEN': [0.001951799420635564, 3.150851957285874e-06]}\n",
      "\n",
      "\n",
      "--> Bu_DstDu\n",
      "Already present\n",
      "{'xsec': [456727307649.88464, 31931298.133575417], 'effGEN': [0.0005769465910172354, 1.6857567348705974e-06]}\n",
      "\n",
      "\n",
      "--> Bd_TauNuDst\n",
      "Already present\n",
      "{'xsec': [456643781663.98676, 36611605.19230932], 'effGEN': [0.002664095112754531, 4.1498219745822606e-06]}\n",
      "\n",
      "\n",
      "--> Bd_DstDs\n",
      "Already present\n",
      "{'xsec': [456677939829.15814, 37006816.22500361], 'effGEN': [0.0027042410159473338, 4.2257094027381994e-06]}\n",
      "\n",
      "\n",
      "--> Bu_MuNuDstPiPi_v3\n",
      "Already present\n",
      "{'xsec': [456737424451.70703, 83164469.16647147], 'effGEN': [0.005687733654326251, 1.3749752563212038e-05]}\n",
      "\n",
      "\n",
      "--> Bd_TauNuDstPiPi\n",
      "Already present\n",
      "{'xsec': [456639887083.5454, 117418280.7737454], 'effGEN': [0.0016533333333333333, 1.0489994668642504e-05]}\n",
      "\n",
      "\n",
      "--> Bd_DDs1\n",
      "Already present\n",
      "{'xsec': [456510018559.73926, 84495661.41651043], 'effGEN': [0.0020195854922279793, 8.343876094398348e-06]}\n",
      "\n",
      "\n",
      "--> Bd_DstDu\n",
      "Already present\n",
      "{'xsec': [456718497743.14484, 31880070.493025027], 'effGEN': [0.0005557675909602409, 1.6519213479207043e-06]}\n",
      "\n",
      "\n",
      "--> Bu_TauNuDstPiPi\n",
      "Already present\n",
      "{'xsec': [456617241730.59283, 117412430.43150687], 'effGEN': [0.0016679333333333333, 1.0536132534375502e-05]}\n",
      "\n",
      "\n",
      "--> Bu_MuNuDstPi\n",
      "Already present\n",
      "{'xsec': [456645908978.03937, 65832035.18805618], 'effGEN': [0.007610271070485912, 1.2580267074338246e-05]}\n",
      "\n",
      "\n",
      "--> Bu_DstDd\n",
      "Already present\n",
      "{'xsec': [456664470140.14484, 23230141.73791026], 'effGEN': [0.0014362809282369097, 1.9344367771244566e-06]}\n",
      "\n",
      "\n",
      "--> B_DstDXX\n",
      "Analizing 200 MINIAOD\n",
      "[####################]  100% - Tot. time: 29.4 s\n",
      "Skipped 0 files\n",
      "Total events in analyzed MINIAODs 57027\n",
      "Chi2: 230.9/198 (5.4%)\n",
      "Xsec: 4.5660e+11 +/- 8.3228e+07 fb (1.8e-04)\n",
      "eff generator: 1.910e-03 +/- 7.992e-06 (4.2e-03)\n",
      "\n",
      "\n",
      "--> Bd_MuNuDst\n",
      "Already present\n",
      "{'xsec': [456573357247.07275, 83143629.37104729], 'effGEN': [0.013007340391580057, 2.0718530258658655e-05]}\n"
     ]
    }
   ],
   "source": [
    "N_max = 200\n",
    "recreate = []\n",
    "# recreate = inDic.keys()\n",
    "for n, d in inDic.iteritems():\n",
    "    print '\\n\\n--> ' + d.sample\n",
    "    \n",
    "    outdir = os.path.join(d.candLoc, d.full_name)\n",
    "    outyamlFile = os.path.join(outdir,'effMCgenerator.yaml')\n",
    "    if os.path.isfile(outyamlFile) and not n in recreate:\n",
    "        print 'Already present'\n",
    "        dic = yaml.load(open(outyamlFile, 'r'))\n",
    "        print dic\n",
    "        continue\n",
    "        \n",
    "    fileList = d.MINIAOD_filelist\n",
    "    if N_max > 0 and N_max < len(fileList):\n",
    "        fileList = np.random.choice(fileList, N_max)\n",
    "    elif len(fileList) == 0:\n",
    "        print 'No MiniAODs found, skipping'\n",
    "        continue\n",
    "    \n",
    "    N_gen, N_cuts, xsec, xsec_err = analyzeMINIAODs(fileList)\n",
    "    s2 = np.square(xsec_err)\n",
    "    num = np.sum(xsec/s2)\n",
    "    den = np.sum(1./s2)\n",
    "    xsecAvg = 1e3*num/den\n",
    "    xsecAvg_err = 1e3*np.sqrt(1/den)\n",
    "    chi2 = np.sum(np.square((xsec - xsecAvg*1e-3)/xsec_err))\n",
    "    pval = rt.ROOT.Math.chisquared_cdf_c(chi2, len(xsec)-1)\n",
    "    print 'Chi2: {:.1f}/{} ({:.1f}%)'.format(chi2, len(xsec)-1, pval*100)\n",
    "    print 'Xsec: {:1.4e} +/- {:1.4e} fb ({:1.1e})'.format(xsecAvg, xsecAvg_err, xsecAvg_err/xsecAvg)\n",
    "    d.xsec = [xsecAvg, xsecAvg_err]\n",
    "    \n",
    "    e, de = getEff(N_cuts, N_gen)\n",
    "    print 'eff generator: {:1.3e} +/- {:1.3e} ({:1.1e})'.format(e,de, de/e)\n",
    "    d.effGEN = [e, de]\n",
    "\n",
    "    dump_dic = {}\n",
    "    for k in ['xsec', 'effGEN']:\n",
    "        aux = getattr(d, k)\n",
    "        dump_dic[k] = [float(aux[0]), float(aux[1])]\n",
    "    if not os.path.isdir(outdir):\n",
    "        os.makedirs(outdir)\n",
    "    with open(outyamlFile, 'w') as dumpF:\n",
    "        dumpF.write(yaml.dump(dump_dic, default_flow_style=False, default_style=''))"
   ]
  },
  {
   "cell_type": "markdown",
   "metadata": {},
   "source": [
    "## ntuplizer efficiency"
   ]
  },
  {
   "cell_type": "code",
   "execution_count": 18,
   "metadata": {
    "ExecuteTime": {
     "end_time": "2022-03-15T22:38:57.781600Z",
     "start_time": "2022-03-15T22:33:56.393722Z"
    },
    "code_folding": [],
    "scrolled": true
   },
   "outputs": [
    {
     "name": "stdout",
     "output_type": "stream",
     "text": [
      "\n",
      "\n",
      "--> Bs_TauNuDstK\n",
      "Analyzing 9 ntuplizer job logs\n",
      "[#########]  100% - Tot. time: 0.2 s\n",
      "Total MINIAOD: 905667\n",
      "Total candidates: 37485\n",
      "eff candidates (trigger): 4.092e-01 +/- 5.167e-04 (1.3e-03)\n",
      "eff candidates (cand): 1.011e-01 +/- 4.953e-04 (4.9e-03)\n",
      "eff candidates: 4.139e-02 +/- 2.093e-04 (5.1e-03)\n",
      "$40.92 \\pm 0.05$ & $10.11 \\pm 0.05$ & $4.14 \\pm 0.02$\\\n",
      "Getting the total rates (if existing)\n",
      "Done\n",
      "\n",
      "\n",
      "--> Bu_DDs1\n",
      "Analyzing 10 ntuplizer job logs\n",
      "[##########]  100% - Tot. time: 0.3 s\n",
      "Total MINIAOD: 145368\n",
      "Total candidates: 8734\n",
      "eff candidates (trigger): 4.352e-01 +/- 1.300e-03 (3.0e-03)\n",
      "eff candidates (cand): 1.381e-01 +/- 1.371e-03 (9.9e-03)\n",
      "eff candidates: 6.008e-02 +/- 6.233e-04 (1.0e-02)\n",
      "$43.52 \\pm 0.13$ & $13.81 \\pm 0.14$ & $6.01 \\pm 0.06$\\\n",
      "Getting the total rates (if existing)\n",
      "Not found\n",
      "\n",
      "\n",
      "--> Bs_DstDs\n",
      "Analyzing 48 ntuplizer job logs\n",
      "[####################]  100% - Tot. time: 1.2 s\n",
      "Total MINIAOD: 5271920\n",
      "Total candidates: 131295\n",
      "eff candidates (trigger): 4.203e-01 +/- 2.150e-04 (5.1e-04)\n",
      "eff candidates (cand): 5.926e-02 +/- 1.586e-04 (2.7e-03)\n",
      "eff candidates: 2.490e-02 +/- 6.787e-05 (2.7e-03)\n",
      "$42.03 \\pm 0.02$ & $5.93 \\pm 0.02$ & $2.49 \\pm 0.01$\\\n",
      "Getting the total rates (if existing)\n",
      "Done\n",
      "\n",
      "\n",
      "--> Bd_TauNuDstPi\n",
      "Analyzing 10 ntuplizer job logs\n",
      "[##########]  100% - Tot. time: 0.2 s\n",
      "Total MINIAOD: 959226\n",
      "Total candidates: 48297\n",
      "eff candidates (trigger): 4.135e-01 +/- 5.028e-04 (1.2e-03)\n",
      "eff candidates (cand): 1.218e-01 +/- 5.193e-04 (4.3e-03)\n",
      "eff candidates: 5.035e-02 +/- 2.233e-04 (4.4e-03)\n",
      "$41.35 \\pm 0.05$ & $12.18 \\pm 0.05$ & $5.03 \\pm 0.02$\\\n",
      "Getting the total rates (if existing)\n",
      "Not found\n",
      "\n",
      "\n",
      "--> Bd_DstDd\n",
      "Analyzing 175 ntuplizer job logs\n",
      "[####################]  100% - Tot. time: 4.8 s\n",
      "Total MINIAOD: 20515014\n",
      "Total candidates: 394058\n",
      "eff candidates (trigger): 4.299e-01 +/- 1.093e-04 (2.5e-04)\n",
      "eff candidates (cand): 4.468e-02 +/- 6.957e-05 (1.6e-03)\n",
      "eff candidates: 1.921e-02 +/- 3.030e-05 (1.6e-03)\n",
      "$42.99 \\pm 0.01$ & $4.47 \\pm 0.01$ & $1.92 \\pm 0.00$\\\n",
      "Getting the total rates (if existing)\n",
      "Done\n",
      "\n",
      "\n",
      "--> Bs_MuNuDstK\n",
      "Analyzing 158 ntuplizer job logs\n",
      "[####################]  100% - Tot. time: 3.9 s\n",
      "Total MINIAOD: 19036940\n",
      "Total candidates: 716735\n",
      "eff candidates (trigger): 3.699e-01 +/- 1.106e-04 (3.0e-04)\n",
      "eff candidates (cand): 1.018e-01 +/- 1.139e-04 (1.1e-03)\n",
      "eff candidates: 3.765e-02 +/- 4.363e-05 (1.2e-03)\n",
      "$36.99 \\pm 0.01$ & $10.18 \\pm 0.01$ & $3.76 \\pm 0.00$\\\n",
      "Getting the total rates (if existing)\n",
      "Not found\n",
      "\n",
      "\n",
      "--> Bd_MuNuDstPi\n",
      "Analyzing 384 ntuplizer job logs\n",
      "[####################]  100% - Tot. time: 10.4 s\n",
      "Total MINIAOD: 42613771\n",
      "Total candidates: 1757521\n",
      "eff candidates (trigger): 3.754e-01 +/- 7.418e-05 (2.0e-04)\n",
      "eff candidates (cand): 1.099e-01 +/- 7.819e-05 (7.1e-04)\n",
      "eff candidates: 4.124e-02 +/- 3.046e-05 (7.4e-04)\n",
      "$37.54 \\pm 0.01$ & $10.99 \\pm 0.01$ & $4.12 \\pm 0.00$\\\n",
      "Getting the total rates (if existing)\n",
      "Done\n",
      "\n",
      "\n",
      "--> Bd_MuNuDstPiPi_v3\n",
      "Analyzing 117 ntuplizer job logs\n",
      "[####################]  100% - Tot. time: 2.9 s\n",
      "Total MINIAOD: 7945784\n",
      "Total candidates: 324517\n",
      "eff candidates (trigger): 3.713e-01 +/- 1.714e-04 (4.6e-04)\n",
      "eff candidates (cand): 1.100e-01 +/- 1.822e-04 (1.7e-03)\n",
      "eff candidates: 4.084e-02 +/- 7.021e-05 (1.7e-03)\n",
      "$37.13 \\pm 0.02$ & $11.00 \\pm 0.02$ & $4.08 \\pm 0.01$\\\n",
      "Getting the total rates (if existing)\n",
      "Done\n",
      "\n",
      "\n",
      "--> Bu_TauNuDstPi\n",
      "Analyzing 9 ntuplizer job logs\n",
      "[#########]  100% - Tot. time: 0.3 s\n",
      "Total MINIAOD: 969189\n",
      "Total candidates: 51551\n",
      "eff candidates (trigger): 4.240e-01 +/- 5.020e-04 (1.2e-03)\n",
      "eff candidates (cand): 1.254e-01 +/- 5.167e-04 (4.1e-03)\n",
      "eff candidates: 5.319e-02 +/- 2.280e-04 (4.3e-03)\n",
      "$42.40 \\pm 0.05$ & $12.54 \\pm 0.05$ & $5.32 \\pm 0.02$\\\n",
      "Getting the total rates (if existing)\n",
      "Not found\n",
      "\n",
      "\n",
      "--> Bu_DstDu\n",
      "Analyzing 174 ntuplizer job logs\n",
      "[####################]  100% - Tot. time: 4.1 s\n",
      "Total MINIAOD: 20265629\n",
      "Total candidates: 1226011\n",
      "eff candidates (trigger): 4.315e-01 +/- 1.100e-04 (2.5e-04)\n",
      "eff candidates (cand): 1.402e-01 +/- 1.174e-04 (8.4e-04)\n",
      "eff candidates: 6.050e-02 +/- 5.296e-05 (8.8e-04)\n",
      "$43.15 \\pm 0.01$ & $14.02 \\pm 0.01$ & $6.05 \\pm 0.01$\\\n",
      "Getting the total rates (if existing)\n",
      "Done\n",
      "\n",
      "\n",
      "--> Bd_TauNuDst\n",
      "Analyzing 273 ntuplizer job logs\n",
      "[####################]  100% - Tot. time: 6.6 s\n",
      "Total MINIAOD: 32674898\n",
      "Total candidates: 1574382\n",
      "eff candidates (trigger): 4.170e-01 +/- 8.626e-05 (2.1e-04)\n",
      "eff candidates (cand): 1.155e-01 +/- 8.660e-05 (7.5e-04)\n",
      "eff candidates: 4.818e-02 +/- 3.746e-05 (7.8e-04)\n",
      "$41.70 \\pm 0.01$ & $11.55 \\pm 0.01$ & $4.82 \\pm 0.00$\\\n",
      "Getting the total rates (if existing)\n",
      "Done\n",
      "\n",
      "\n",
      "--> Bd_DstDs\n",
      "Analyzing 323 ntuplizer job logs\n",
      "[####################]  100% - Tot. time: 7.6 s\n",
      "Total MINIAOD: 38958522\n",
      "Total candidates: 1378793\n",
      "eff candidates (trigger): 4.381e-01 +/- 7.949e-05 (1.8e-04)\n",
      "eff candidates (cand): 8.078e-02 +/- 6.596e-05 (8.2e-04)\n",
      "eff candidates: 3.539e-02 +/- 2.960e-05 (8.4e-04)\n",
      "$43.81 \\pm 0.01$ & $8.08 \\pm 0.01$ & $3.54 \\pm 0.00$\\\n",
      "Getting the total rates (if existing)\n",
      "Done\n",
      "\n",
      "\n",
      "--> Bu_MuNuDstPiPi_v3\n",
      "Analyzing 87 ntuplizer job logs\n",
      "[####################]  100% - Tot. time: 2.2 s\n",
      "Total MINIAOD: 6302453\n",
      "Total candidates: 225227\n",
      "eff candidates (trigger): 3.855e-01 +/- 1.939e-04 (5.0e-04)\n",
      "eff candidates (cand): 9.269e-02 +/- 1.860e-04 (2.0e-03)\n",
      "eff candidates: 3.574e-02 +/- 7.394e-05 (2.1e-03)\n",
      "$38.55 \\pm 0.02$ & $9.27 \\pm 0.02$ & $3.57 \\pm 0.01$\\\n",
      "Getting the total rates (if existing)\n",
      "Done\n",
      "\n",
      "\n",
      "--> Bd_TauNuDstPiPi\n",
      "Analyzing 49 ntuplizer job logs\n",
      "[####################]  100% - Tot. time: 1.6 s\n",
      "Total MINIAOD: 1208063\n",
      "Total candidates: 58532\n",
      "eff candidates (trigger): 4.125e-01 +/- 4.479e-04 (1.1e-03)\n",
      "eff candidates (cand): 1.175e-01 +/- 4.561e-04 (3.9e-03)\n",
      "eff candidates: 4.845e-02 +/- 1.954e-04 (4.0e-03)\n",
      "$41.25 \\pm 0.04$ & $11.75 \\pm 0.05$ & $4.85 \\pm 0.02$\\\n",
      "Getting the total rates (if existing)\n",
      "Not found\n",
      "\n",
      "\n",
      "--> Bd_DDs1\n",
      "Analyzing 20 ntuplizer job logs\n",
      "[####################]  100% - Tot. time: 0.7 s\n",
      "Total MINIAOD: 598729\n",
      "Total candidates: 18928\n",
      "eff candidates (trigger): 4.298e-01 +/- 6.398e-04 (1.5e-03)\n",
      "eff candidates (cand): 7.356e-02 +/- 5.147e-04 (7.0e-03)\n",
      "eff candidates: 3.161e-02 +/- 2.261e-04 (7.2e-03)\n",
      "$42.98 \\pm 0.06$ & $7.36 \\pm 0.05$ & $3.16 \\pm 0.02$\\\n",
      "Getting the total rates (if existing)\n",
      "Done\n",
      "\n",
      "\n",
      "--> Bd_DstDu\n",
      "Analyzing 161 ntuplizer job logs\n",
      "[####################]  100% - Tot. time: 4.3 s\n",
      "Total MINIAOD: 18869232\n",
      "Total candidates: 1051377\n",
      "eff candidates (trigger): 4.205e-01 +/- 1.136e-04 (2.7e-04)\n",
      "eff candidates (cand): 1.325e-01 +/- 1.204e-04 (9.1e-04)\n",
      "eff candidates: 5.572e-02 +/- 5.281e-05 (9.5e-04)\n",
      "$42.05 \\pm 0.01$ & $13.25 \\pm 0.01$ & $5.57 \\pm 0.01$\\\n",
      "Getting the total rates (if existing)\n",
      "Not found\n",
      "\n",
      "\n",
      "--> Bu_TauNuDstPiPi\n",
      "Analyzing 47 ntuplizer job logs\n",
      "[####################]  100% - Tot. time: 1.6 s\n",
      "Total MINIAOD: 1163393\n",
      "Total candidates: 60354\n",
      "eff candidates (trigger): 4.222e-01 +/- 4.579e-04 (1.1e-03)\n",
      "eff candidates (cand): 1.229e-01 +/- 4.684e-04 (3.8e-03)\n",
      "eff candidates: 5.188e-02 +/- 2.056e-04 (4.0e-03)\n",
      "$42.22 \\pm 0.05$ & $12.29 \\pm 0.05$ & $5.19 \\pm 0.02$\\\n",
      "Getting the total rates (if existing)\n",
      "Not found\n",
      "\n",
      "\n",
      "--> Bu_MuNuDstPi\n",
      "Analyzing 696 ntuplizer job logs\n",
      "[####################]  100% - Tot. time: 18.8 s\n",
      "Total MINIAOD: 75812268\n",
      "Total candidates: 3303414\n",
      "eff candidates (trigger): 3.880e-01 +/- 5.597e-05 (1.4e-04)\n",
      "eff candidates (cand): 1.123e-01 +/- 5.822e-05 (5.2e-04)\n",
      "eff candidates: 4.357e-02 +/- 2.345e-05 (5.4e-04)\n",
      "$38.80 \\pm 0.01$ & $11.23 \\pm 0.01$ & $4.36 \\pm 0.00$\\\n",
      "Getting the total rates (if existing)\n",
      "Done\n",
      "\n",
      "\n",
      "--> Bu_DstDd\n",
      "Analyzing 264 ntuplizer job logs\n",
      "[####################]  100% - Tot. time: 6.7 s\n",
      "Total MINIAOD: 19308837\n",
      "Total candidates: 368491\n",
      "eff candidates (trigger): 4.276e-01 +/- 1.126e-04 (2.6e-04)\n",
      "eff candidates (cand): 4.463e-02 +/- 7.186e-05 (1.6e-03)\n",
      "eff candidates: 1.908e-02 +/- 3.114e-05 (1.6e-03)\n",
      "$42.76 \\pm 0.01$ & $4.46 \\pm 0.01$ & $1.91 \\pm 0.00$\\\n",
      "Getting the total rates (if existing)\n",
      "Done\n",
      "\n",
      "\n",
      "--> B_DstDXX\n",
      "Analyzing 24 ntuplizer job logs\n",
      "[####################]  100% - Tot. time: 0.0 s\n",
      "Total MINIAOD: 466713\n",
      "Total candidates: 8477\n",
      "eff candidates (trigger): 4.130e-01 +/- 7.207e-04 (1.7e-03)\n",
      "eff candidates (cand): 4.398e-02 +/- 4.671e-04 (1.1e-02)\n",
      "eff candidates: 1.816e-02 +/- 1.955e-04 (1.1e-02)\n",
      "$41.30 \\pm 0.07$ & $4.40 \\pm 0.05$ & $1.82 \\pm 0.02$\\\n",
      "Getting the total rates (if existing)\n",
      "Done\n",
      "\n",
      "\n",
      "--> Bd_MuNuDst\n"
     ]
    },
    {
     "name": "stdout",
     "output_type": "stream",
     "text": [
      "Analyzing 6371 ntuplizer job logs\n",
      "[####################]  100% - Tot. time: 202.0 s\n",
      "Total MINIAOD: 690287908\n",
      "Total candidates: 25828968\n",
      "eff candidates (trigger): 3.826e-01 +/- 1.850e-05 (4.8e-05)\n",
      "eff candidates (cand): 9.780e-02 +/- 1.828e-05 (1.9e-04)\n",
      "eff candidates: 3.742e-02 +/- 7.223e-06 (1.9e-04)\n",
      "$38.26 \\pm 0.00$ & $9.78 \\pm 0.00$ & $3.74 \\pm 0.00$\\\n",
      "Getting the total rates (if existing)\n",
      "Done\n"
     ]
    }
   ],
   "source": [
    "for d in inDic.values():\n",
    "    print '\\n\\n--> ' + d.sample\n",
    "\n",
    "    if not os.path.isdir(d.ntuples_dir):\n",
    "        continue\n",
    "    cand_out_list = glob(os.path.join(d.ntuples_dir,'out/job*.out'))\n",
    "#     if d.sample == 'Bd_MuNuDst':\n",
    "#         cand_out_list = glob(os.path.join(d.ntuples_dir,'out/job_???_*.out'))\n",
    "    N_analyzed = 0\n",
    "    N_trg = 0\n",
    "    N_cand = 0\n",
    "    print 'Analyzing {} ntuplizer job logs'.format(len(cand_out_list))\n",
    "    pb = ProgressBar(maxEntry=len(cand_out_list))\n",
    "    for ic, cand_out in enumerate(cand_out_list):\n",
    "        pb.show(ic)\n",
    "        eff_ln = []\n",
    "        counters = []\n",
    "        takingCounters = False\n",
    "        for line in open(cand_out).readlines():\n",
    "            if 'efficiency:' in line:\n",
    "                eff_ln.append(line)\n",
    "            elif 'counters:' in line:\n",
    "                    takingCounters = True\n",
    "            elif takingCounters and line[:-1].isdigit():\n",
    "                counters.append(int(line[:-1]))\n",
    "            elif takingCounters:\n",
    "                takingCounters = False\n",
    "#             print line\n",
    "        aux = re.search('[0-9]+/[0-9]+', eff_ln[0]).group(0)\n",
    "        aux = aux.split('/')\n",
    "        N_analyzed += int(aux[1])\n",
    "        N_trg += int(aux[0])\n",
    "        \n",
    "        aux = re.search(': [0-9]+/', eff_ln[1]).group(0)\n",
    "        N_cand += int(aux[2:-1])\n",
    "        \n",
    "        counters=np.array(counters)\n",
    "        if not hasattr(d, 'counters'):\n",
    "            d.counters = counters\n",
    "        else:\n",
    "            d.counters += counters\n",
    "        \n",
    "    d.nTotMINIAOD = N_analyzed\n",
    "    d.nTotCAND = N_cand\n",
    "    print 'Total MINIAOD:', N_analyzed\n",
    "    print 'Total candidates:', N_cand\n",
    "    \n",
    "    e, de = getEff(N_trg, N_analyzed)\n",
    "    d.effCAND_trg = e, de\n",
    "    print 'eff candidates (trigger): {:1.3e} +/- {:1.3e} ({:1.1e})'.format(e,de, de/e)\n",
    "    latexStr = '${:.2f} \\pm {:.2f}$'.format(100*e, 100*de)\n",
    "    \n",
    "    e, de = getEff(N_cand, N_trg)\n",
    "    d.effCAND_cand = e, de\n",
    "    print 'eff candidates (cand): {:1.3e} +/- {:1.3e} ({:1.1e})'.format(e,de, de/e)\n",
    "    latexStr += ' & ${:.2f} \\pm {:.2f}$'.format(100*e, 100*de)\n",
    "    \n",
    "    \n",
    "    e, de = getEff(N_cand, N_analyzed)\n",
    "    d.effCAND = e, de\n",
    "    print 'eff candidates: {:1.3e} +/- {:1.3e} ({:1.1e})'.format(e,de, de/e)\n",
    "    latexStr += ' & ${:.2f} \\pm {:.2f}$\\\\'.format(100*e, 100*de)\n",
    "    print latexStr\n",
    "    \n",
    "    print 'Getting the total rates (if existing)'\n",
    "    try:\n",
    "        fCandLoc = glob(os.path.join(d.ntuples_dir,'out_CAND_*.root'))[0]\n",
    "        fCand = ur.open(fCandLoc)\n",
    "        Trate = fCand['p']['Trate']\n",
    "        d.rate = {}\n",
    "        for k in Trate.keys():\n",
    "            r = Trate.array(k)[0]\n",
    "            r *= 1e12 #GeV -> meV\n",
    "            d.rate[str(k)] = r\n",
    "        print 'Done'\n",
    "    except:\n",
    "        print 'Not found'\n",
    "    \n",
    "    dump_dic = {'nTotMINIAOD': int(d.nTotMINIAOD), 'nTotCAND': int(d.nTotCAND)}\n",
    "    for k in ['effCAND', 'effCAND_trg', 'effCAND_cand']:\n",
    "        aux = getattr(d, k)\n",
    "        dump_dic[k] = [float(aux[0]), float(aux[1])]\n",
    "    if hasattr(d, 'rate'):\n",
    "        for k, v in d.rate.iteritems():\n",
    "            dump_dic['rate_'+k] = float(v)\n",
    "    with open(os.path.join(d.ntuples_dir,'effCAND.yaml'), 'w') as dumpF:\n",
    "        dumpF.write(yaml.dump(dump_dic, default_flow_style=False, default_style=''))"
   ]
  },
  {
   "cell_type": "code",
   "execution_count": 19,
   "metadata": {
    "ExecuteTime": {
     "end_time": "2022-03-15T22:38:58.912958Z",
     "start_time": "2022-03-15T22:38:57.790006Z"
    }
   },
   "outputs": [
    {
     "name": "stdout",
     "output_type": "stream",
     "text": [
      "+-----------------+-------+-------+-------+-------+-------+-------+-------+-------+-------+-------+------+------+------+\n",
      "|      Sample     |   0   |   1   |   2   |   3   |   4   |   5   |   6   |   7   |   8   |   9   |  10  |  11  |  12  |\n",
      "+-----------------+-------+-------+-------+-------+-------+-------+-------+-------+-------+-------+------+------+------+\n",
      "|    Bs_TauDstK   | 40.92 | 40.41 | 39.67 | 37.68 | 36.08 | 30.34 | 18.83 | 18.79 | 17.14 |  9.81 | 4.45 | 4.14 | 4.14 |\n",
      "|     Bu_DDs1     | 43.52 | 42.99 | 42.11 | 40.47 | 40.09 | 35.72 | 22.49 | 22.44 | 22.01 | 16.69 | 6.90 | 6.01 | 6.01 |\n",
      "|     Bs_DstDs    | 42.03 | 41.48 | 40.69 | 38.24 | 36.50 | 30.15 | 13.16 | 13.12 | 12.24 |  7.60 | 3.04 | 2.50 | 2.49 |\n",
      "|   Bd_TauDstPi   | 41.35 | 40.84 | 40.07 | 38.24 | 36.69 | 31.21 | 20.75 | 20.71 | 18.75 | 10.97 | 5.40 | 5.04 | 5.03 |\n",
      "|     Bd_DstDd    | 42.99 | 42.43 | 41.57 | 39.00 | 37.18 | 30.52 | 11.96 | 11.91 | 11.22 |  7.05 | 2.85 | 1.93 | 1.92 |\n",
      "|    Bs_MuDstK    | 36.99 | 36.47 | 35.96 | 34.19 | 32.60 | 26.90 | 17.08 | 17.05 | 15.39 |  8.39 | 3.80 | 3.77 | 3.76 |\n",
      "|    Bd_MuDstPi   | 37.54 | 37.01 | 36.49 | 34.53 | 32.83 | 27.07 | 17.09 | 17.06 | 15.29 |  8.53 | 4.17 | 4.12 | 4.12 |\n",
      "| Bd_MuDstPiPi_v3 | 37.13 | 36.63 | 36.07 | 34.67 | 33.46 | 29.29 | 17.24 | 17.20 | 16.08 | 11.37 | 4.13 | 4.08 | 4.08 |\n",
      "|   Bu_TauDstPi   | 42.40 | 41.89 | 41.05 | 40.06 | 38.43 | 34.15 | 21.55 | 21.51 | 19.48 | 11.57 | 5.71 | 5.32 | 5.32 |\n",
      "|     Bu_DstDu    | 43.15 | 42.66 | 41.45 | 40.01 | 39.68 | 36.10 | 22.29 | 22.24 | 21.89 | 17.68 | 6.88 | 6.05 | 6.05 |\n",
      "|   Bd_TauNuDst   | 41.70 | 41.17 | 40.47 | 38.45 | 36.74 | 30.93 | 20.37 | 20.33 | 18.29 | 10.52 | 5.17 | 4.82 | 4.82 |\n",
      "|     Bd_DstDs    | 43.81 | 43.22 | 42.51 | 40.01 | 38.17 | 31.55 | 15.80 | 15.75 | 14.50 |  8.80 | 4.34 | 3.54 | 3.54 |\n",
      "| Bu_MuDstPiPi_v3 | 38.55 | 38.01 | 37.47 | 35.02 | 32.77 | 26.87 | 14.80 | 14.76 | 13.34 |  7.54 | 3.61 | 3.57 | 3.57 |\n",
      "|  Bd_TauDstPiPi  | 41.25 | 40.77 | 39.93 | 38.70 | 37.67 | 33.94 | 21.25 | 21.20 | 20.02 | 14.74 | 5.19 | 4.85 | 4.85 |\n",
      "|     Bd_DDs1     | 42.98 | 42.41 | 41.66 | 39.25 | 37.53 | 31.00 | 14.35 | 14.30 | 13.34 |  8.32 | 3.91 | 3.17 | 3.16 |\n",
      "|     Bd_DstDu    | 42.05 | 41.59 | 40.32 | 39.29 | 38.93 | 36.11 | 21.55 | 21.49 | 21.12 | 16.84 | 6.34 | 5.57 | 5.57 |\n",
      "|  Bu_TauDstPiPi  | 42.22 | 41.73 | 40.85 | 39.76 | 38.28 | 33.92 | 21.84 | 21.80 | 19.84 | 11.72 | 5.54 | 5.19 | 5.19 |\n",
      "|    Bu_MuDstPi   | 38.80 | 38.26 | 37.70 | 36.58 | 34.76 | 30.04 | 17.85 | 17.81 | 16.00 |  8.99 | 4.40 | 4.36 | 4.36 |\n",
      "|     Bu_DstDd    | 42.76 | 42.22 | 41.32 | 38.69 | 37.10 | 30.80 | 11.88 | 11.83 | 11.31 |  8.02 | 2.83 | 1.92 | 1.91 |\n",
      "|     B_DstDXX    | 41.30 | 40.78 | 39.91 | 37.51 | 35.97 | 29.94 | 10.91 | 10.87 | 10.46 |  7.43 | 2.43 | 1.82 | 1.82 |\n",
      "|    Bd_MuNuDst   | 38.26 | 37.70 | 37.20 | 35.10 | 33.22 | 27.11 | 17.21 | 17.18 | 15.27 |  8.21 | 3.78 | 3.74 | 3.74 |\n",
      "+-----------------+-------+-------+-------+-------+-------+-------+-------+-------+-------+-------+------+------+------+\n"
     ]
    },
    {
     "data": {
      "image/png": "[encoded data removed]",
      "text/plain": [
       "<matplotlib.figure.Figure at 0x153bc934db10>"
      ]
     },
     "metadata": {},
     "output_type": "display_data"
    }
   ],
   "source": [
    "t = PrettyTable()\n",
    "t.field_names = ['Sample'] + [str(i) for i in range(d.counters.shape[0])]\n",
    "for n, d in inDic.iteritems():\n",
    "    eff = np.zeros((d.counters.shape[0], 2))\n",
    "    eff[0] = d.effCAND_trg\n",
    "    for i in range(d.counters[1:].shape[0]):\n",
    "        eff[i+1] = getEff(d.counters[i+1], d.nTotMINIAOD)\n",
    "    t.add_row([n] + ['{:.2f}'.format(100*e[0]) for e in eff])\n",
    "    x = np.arange(eff.shape[0])\n",
    "    p = plt.errorbar(x, eff[:, 0], eff[:,1], lw=0, elinewidth=5, label=n)\n",
    "    \n",
    "#     plt.plot(x[[0,-1]], 2*[d.effCAND[0]], '-', color=p[0].get_color())\n",
    "#     plt.fill_between(x[[0,-1]], 2*[d.effCAND[0]-d.effCAND[1]], 2*[d.effCAND[0]+d.effCAND[1]], color=p[0].get_color(), alpha=0.2)\n",
    "print t\n",
    "plt.rcParams.update({'font.size': 20})\n",
    "plt.xlabel('Counter')\n",
    "plt.ylabel('Efficiency')\n",
    "plt.legend(loc='best', numpoints=1)\n",
    "plt.ylim(0.01,1.05)\n",
    "plt.xlim(-1, eff.shape[0])\n",
    "plt.grid(True, which='both')\n",
    "plt.yscale('log')\n",
    "plt.gcf().set_size_inches(10, 6)"
   ]
  },
  {
   "cell_type": "code",
   "execution_count": 20,
   "metadata": {
    "ExecuteTime": {
     "end_time": "2022-03-15T22:38:59.854410Z",
     "start_time": "2022-03-15T22:38:58.919967Z"
    }
   },
   "outputs": [
    {
     "name": "stdout",
     "output_type": "stream",
     "text": [
      "+-----------------+-------+-------+-------+-------+-------+-------+-------+-------+-------+-------+-------+-------+--------+\n",
      "|      Sample     |   0   |   1   |   2   |   3   |   4   |   5   |   6   |   7   |   8   |   9   |   10  |   11  |   12   |\n",
      "+-----------------+-------+-------+-------+-------+-------+-------+-------+-------+-------+-------+-------+-------+--------+\n",
      "|    Bs_TauDstK   | 40.92 | 98.75 | 98.16 | 94.98 | 95.77 | 84.07 | 62.06 | 99.80 | 91.22 | 57.22 | 45.33 | 93.11 | 99.99  |\n",
      "|     Bu_DDs1     | 43.52 | 98.79 | 97.95 | 96.10 | 99.06 | 89.09 | 62.98 | 99.76 | 98.11 | 75.80 | 41.35 | 87.12 | 99.95  |\n",
      "|     Bs_DstDs    | 42.03 | 98.69 | 98.11 | 93.96 | 95.46 | 82.61 | 43.66 | 99.66 | 93.32 | 62.09 | 40.02 | 82.06 | 99.76  |\n",
      "|   Bd_TauDstPi   | 41.35 | 98.77 | 98.11 | 95.45 | 95.95 | 85.04 | 66.50 | 99.82 | 90.52 | 58.50 | 49.22 | 93.27 | 99.99  |\n",
      "|     Bd_DstDd    | 42.99 | 98.70 | 97.97 | 93.82 | 95.32 | 82.10 | 39.18 | 99.60 | 94.23 | 62.79 | 40.41 | 67.73 | 99.60  |\n",
      "|    Bs_MuDstK    | 36.99 | 98.59 | 98.60 | 95.09 | 95.33 | 82.54 | 63.49 | 99.82 | 90.28 | 54.53 | 45.32 | 98.97 | 99.99  |\n",
      "|    Bd_MuDstPi   | 37.54 | 98.60 | 98.58 | 94.64 | 95.09 | 82.44 | 63.13 | 99.81 | 89.66 | 55.76 | 48.88 | 98.97 | 99.99  |\n",
      "| Bd_MuDstPiPi_v3 | 37.13 | 98.66 | 98.46 | 96.13 | 96.51 | 87.54 | 58.84 | 99.78 | 93.47 | 70.72 | 36.37 | 98.79 | 99.98  |\n",
      "|   Bu_TauDstPi   | 42.40 | 98.81 | 97.98 | 97.59 | 95.94 | 88.86 | 63.09 | 99.82 | 90.57 | 59.37 | 49.39 | 93.12 | 100.00 |\n",
      "|     Bu_DstDu    | 43.15 | 98.86 | 97.18 | 96.53 | 99.17 | 90.97 | 61.76 | 99.76 | 98.44 | 80.76 | 38.92 | 87.95 | 99.97  |\n",
      "|   Bd_TauNuDst   | 41.70 | 98.72 | 98.32 | 95.00 | 95.56 | 84.18 | 65.85 | 99.83 | 89.94 | 57.55 | 49.16 | 93.13 | 99.99  |\n",
      "|     Bd_DstDs    | 43.81 | 98.64 | 98.37 | 94.11 | 95.40 | 82.67 | 50.07 | 99.69 | 92.07 | 60.66 | 49.32 | 81.73 | 99.84  |\n",
      "| Bu_MuDstPiPi_v3 | 38.55 | 98.60 | 98.56 | 93.47 | 93.58 | 81.98 | 55.09 | 99.76 | 90.32 | 56.51 | 47.95 | 98.90 | 99.99  |\n",
      "|  Bd_TauDstPiPi  | 41.25 | 98.84 | 97.94 | 96.94 | 97.32 | 90.11 | 62.60 | 99.79 | 94.43 | 73.64 | 35.18 | 93.43 | 99.99  |\n",
      "|     Bd_DDs1     | 42.98 | 98.69 | 98.23 | 94.22 | 95.61 | 82.59 | 46.28 | 99.68 | 93.25 | 62.37 | 47.07 | 80.91 | 99.80  |\n",
      "|     Bd_DstDu    | 42.05 | 98.92 | 96.95 | 97.43 | 99.10 | 92.76 | 59.66 | 99.74 | 98.29 | 79.75 | 37.63 | 87.93 | 99.96  |\n",
      "|  Bu_TauDstPiPi  | 42.22 | 98.83 | 97.91 | 97.32 | 96.29 | 88.60 | 64.40 | 99.81 | 91.02 | 59.05 | 47.26 | 93.68 | 100.00 |\n",
      "|    Bu_MuDstPi   | 38.80 | 98.60 | 98.54 | 97.03 | 95.02 | 86.42 | 59.43 | 99.79 | 89.81 | 56.20 | 48.96 | 98.98 | 100.00 |\n",
      "|     Bu_DstDd    | 42.76 | 98.72 | 97.87 | 93.65 | 95.88 | 83.04 | 38.56 | 99.58 | 95.62 | 70.94 | 35.31 | 67.69 | 99.53  |\n",
      "|     B_DstDXX    | 41.30 | 98.73 | 97.87 | 93.98 | 95.91 | 83.23 | 36.44 | 99.61 | 96.28 | 70.99 | 32.66 | 75.13 | 99.67  |\n",
      "|    Bd_MuNuDst   | 38.26 | 98.55 | 98.67 | 94.35 | 94.65 | 81.61 | 63.47 | 99.81 | 88.89 | 53.77 | 46.04 | 99.02 | 99.99  |\n",
      "+-----------------+-------+-------+-------+-------+-------+-------+-------+-------+-------+-------+-------+-------+--------+\n"
     ]
    },
    {
     "data": {
      "image/png": "[encoded data removed]",
      "text/plain": [
       "<matplotlib.figure.Figure at 0x153c464714d0>"
      ]
     },
     "metadata": {},
     "output_type": "display_data"
    }
   ],
   "source": [
    "t = PrettyTable()\n",
    "t.field_names = ['Sample'] + [str(i) for i in range(d.counters.shape[0])]\n",
    "for n, d in inDic.iteritems():\n",
    "    eff = np.zeros((d.counters.shape[0], 2))\n",
    "    eff[0] = d.effCAND_trg\n",
    "    for i in range(d.counters[1:].shape[0]):\n",
    "        eff[i+1] = getEff(d.counters[i+1], d.counters[i])\n",
    "    t.add_row([n] + ['{:.2f}'.format(100*e[0]) for e in eff])\n",
    "    x = np.arange(eff.shape[0])\n",
    "    p = plt.errorbar(x, eff[:, 0], eff[:,1], fmt='o', lw=0, elinewidth=5, label=n)\n",
    "print t\n",
    "plt.rcParams.update({'font.size': 20})\n",
    "plt.xlabel('Counter')\n",
    "plt.ylabel('Efficiency')\n",
    "plt.legend(loc='best', numpoints=1)\n",
    "plt.ylim(0.2,1.05)\n",
    "plt.xlim(-1, eff.shape[0])\n",
    "plt.grid(True, which='both')\n",
    "plt.yscale('log')\n",
    "plt.gcf().set_size_inches(10, 6)"
   ]
  },
  {
   "cell_type": "markdown",
   "metadata": {},
   "source": [
    "## Skim Efficiency"
   ]
  },
  {
   "cell_type": "code",
   "execution_count": 21,
   "metadata": {
    "ExecuteTime": {
     "end_time": "2022-03-15T22:39:00.451883Z",
     "start_time": "2022-03-15T22:38:59.858301Z"
    }
   },
   "outputs": [
    {
     "ename": "NameError",
     "evalue": "name 'order' is not defined",
     "output_type": "error",
     "traceback": [
      "\u001b[0;31m\u001b[0m",
      "\u001b[0;31mNameError\u001b[0mTraceback (most recent call last)",
      "\u001b[0;32m<ipython-input-21-720562a67f9f>\u001b[0m in \u001b[0;36m<module>\u001b[0;34m()\u001b[0m\n\u001b[0;32m----> 1\u001b[0;31m \u001b[0;32mfor\u001b[0m \u001b[0mp\u001b[0m \u001b[0;32min\u001b[0m \u001b[0morder\u001b[0m\u001b[0;34m:\u001b[0m\u001b[0;34m\u001b[0m\u001b[0m\n\u001b[0m\u001b[1;32m      2\u001b[0m     \u001b[0;32mif\u001b[0m \u001b[0;32mnot\u001b[0m \u001b[0mp\u001b[0m \u001b[0;32min\u001b[0m \u001b[0minDic\u001b[0m\u001b[0;34m.\u001b[0m\u001b[0mkeys\u001b[0m\u001b[0;34m(\u001b[0m\u001b[0;34m)\u001b[0m\u001b[0;34m:\u001b[0m\u001b[0;34m\u001b[0m\u001b[0m\n\u001b[1;32m      3\u001b[0m         \u001b[0;32mcontinue\u001b[0m\u001b[0;34m\u001b[0m\u001b[0m\n\u001b[1;32m      4\u001b[0m \u001b[0;34m\u001b[0m\u001b[0m\n\u001b[1;32m      5\u001b[0m     \u001b[0ms\u001b[0m \u001b[0;34m=\u001b[0m \u001b[0;34m[\u001b[0m\u001b[0;34m]\u001b[0m\u001b[0;34m\u001b[0m\u001b[0m\n",
      "\u001b[0;31mNameError\u001b[0m: name 'order' is not defined"
     ]
    }
   ],
   "source": [
    "for p in order:\n",
    "    if not p in inDic.keys():\n",
    "        continue\n",
    "    \n",
    "    s = []\n",
    "    for c in ['Low', 'Mid', 'High']:\n",
    "        s.append(inDic[p].printSkimEffLatex(c+'_bare'))\n",
    "    s = ' & '.join(s)\n",
    "    s += '\\\\\\\\'\n",
    "#     print p, s\n",
    "    print s"
   ]
  },
  {
   "cell_type": "markdown",
   "metadata": {
    "hide_input": false
   },
   "source": [
    "# Comparison table"
   ]
  },
  {
   "cell_type": "code",
   "execution_count": null,
   "metadata": {
    "ExecuteTime": {
     "end_time": "2022-03-15T22:39:00.453839Z",
     "start_time": "2022-03-15T22:33:14.822Z"
    }
   },
   "outputs": [],
   "source": [
    "# Latex format\n",
    "\n",
    "latexTable = r'''\n",
    "\\begin{tabular}{|c||c|c||cc|c||cc|cc|cc|}\n",
    " \\hline\n",
    " Process & \n",
    " xsec [b] & $\\varepsilon_\\text{gen}$ & \n",
    " $\\varepsilon_\\text{trg}$ [\\%]& $\\varepsilon_\\text{cand}$ [\\%]& \n",
    " $\\varepsilon_\\text{ntp} = \\varepsilon_\\text{trg}\\varepsilon_\\text{cand}$ [\\%] &\n",
    " $\\varepsilon_\\text{skim}^{low}$ [\\%] & $\\varepsilon_\\text{ntp}\\varepsilon_\\text{skim}^{low}$ [\\%] &\n",
    " $\\varepsilon_\\text{skim}^{mid}$ [\\%] & $\\varepsilon_\\text{ntp}\\varepsilon_\\text{skim}^{mid}$ [\\%] &\n",
    " $\\varepsilon_\\text{skim}^{high}$ [\\%] & $\\varepsilon_\\text{ntp}\\varepsilon_\\text{skim}^{high}$ [\\%] &\n",
    " \\\\\n",
    " \\hline\n",
    " \\hline\n",
    "'''\n",
    "\n",
    "procTraslation = {\n",
    "    'mu_c0': r'$B\\to D^*\\mu\\nu$ (hard $b\\bar{b}$)',\n",
    "    'muSoft_c0': r'$B\\to D^*\\mu\\nu$ (soft QCD all)',\n",
    "}\n",
    "\n",
    "for n, ds in inDic.iteritems():\n",
    "    name = procTraslation[n] if n in procTraslation.keys() else n\n",
    "    fields = [name]\n",
    "    xsec = '{:.3f}'.format(1e-12*ds.effMCgen['xsec'][0])   \n",
    "    eGen = '{:1.2e}'.format(ds.effMCgen['effGEN'][0])\n",
    "    fields += [xsec, eGen]\n",
    "    for k in ['effCAND_trg', 'effCAND_cand', 'effCAND']:\n",
    "        s = '{:.2f}'.format(100*ds.effCand[k][0])\n",
    "        fields.append(s)\n",
    "    for k in ['Low', 'Mid', 'High']:\n",
    "        s = '{:.2f}'.format(100*ds.getSkimEff(k+'_bare')[0])\n",
    "        fields.append(s)\n",
    "    latexTable += ' ' + ' & '.join(fields) + ' \\\\\\\\\\n \\hline\\n'\n",
    "latexTable += r'\\end{tabular}' + '\\n'\n",
    "print latexTable"
   ]
  },
  {
   "cell_type": "code",
   "execution_count": null,
   "metadata": {
    "ExecuteTime": {
     "end_time": "2022-03-15T22:39:00.457540Z",
     "start_time": "2022-03-15T22:33:14.823Z"
    }
   },
   "outputs": [],
   "source": [
    "# Latex format transposed\n",
    "\n",
    "latexTable = r'\\begin{tabular}{|'+len(inDic.keys() + ['a'])*r'c|'+r'}\\n\\hline\\n'\n",
    "\n",
    "fieldNames = [\n",
    "    r'Process',\n",
    "    r'xsec [b]',\n",
    "    r'$\\varepsilon_\\text{gen}$',\n",
    "    r'$\\varepsilon_\\text{trg}$ [\\%]',\n",
    "    r'$\\varepsilon_\\text{cand}$ [\\%]',\n",
    "    r'$\\varepsilon_\\text{ntp} = \\varepsilon_\\text{trg}\\varepsilon_\\text{cand}$ [\\%]',\n",
    "    r'$\\varepsilon_\\text{skim}^{low}$ [\\%]',\n",
    "    r'$\\varepsilon_\\text{ntp}\\varepsilon_\\text{skim}^{low}$ [\\%]',\n",
    "    r'$\\varepsilon_\\text{skim}^{mid}$ [\\%]',\n",
    "    r'$\\varepsilon_\\text{ntp}\\varepsilon_\\text{skim}^{mid}$ [\\%]',\n",
    "    r'$\\varepsilon_\\text{skim}^{high}$ [\\%]',\n",
    "    r'$\\varepsilon_\\text{ntp}\\varepsilon_\\text{skim}^{high}$ [\\%]'\n",
    "]\n",
    "\n",
    "procTraslation = {\n",
    "    'mu_c0': r'$B\\to D^*\\mu\\nu$ (hard $b\\bar{b}$)',\n",
    "    'muSoft_c0': r'$B\\to D^*\\mu\\nu$ (soft QCD all)',\n",
    "}\n",
    "\n",
    "latexTable += ' '+fieldNames[0]\n",
    "for n, ds in inDic.iteritems():\n",
    "    name = procTraslation[n] if n in procTraslation.keys() else n\n",
    "    latexTable += ' & ' + name\n",
    "latexTable += ' \\\\\\\\\\n \\hline\\n \\hline\\n'\n",
    "    \n",
    "latexTable += ' '+fieldNames[1]\n",
    "for n, ds in inDic.iteritems():\n",
    "    latexTable += ' & ' + '{:.3f}'.format(1e-12*ds.effMCgen['xsec'][0])\n",
    "latexTable += ' \\\\\\\\\\n \\hline\\n'\n",
    "\n",
    "latexTable += ' '+fieldNames[2]\n",
    "for n, ds in inDic.iteritems():\n",
    "    latexTable += ' & ' + '{:1.2e}'.format(ds.effMCgen['effGEN'][0])\n",
    "latexTable += ' \\\\\\\\\\n \\hline\\n \\hline\\n'\n",
    "\n",
    "\n",
    "for i, k in enumerate(['effCAND_trg', 'effCAND_cand', 'effCAND']):\n",
    "    latexTable += ' '+fieldNames[3+i]\n",
    "    for n, ds in inDic.iteritems():\n",
    "        latexTable += ' & ' + '{:.2f}'.format(100*ds.effCand[k][0])\n",
    "    latexTable += ' \\\\\\\\\\n \\hline\\n'\n",
    "latexTable += ' \\hline\\n'\n",
    "\n",
    "for i, k in enumerate(['Low', 'Mid', 'High']):\n",
    "    latexTable += ' '+fieldNames[6+2*i]\n",
    "    for n, ds in inDic.iteritems():\n",
    "        latexTable += ' & ' + '{:.2f}'.format(100*ds.getSkimEff(k+'_bare')[0])\n",
    "    latexTable += ' \\\\\\\\\\n \\hline\\n'\n",
    "    latexTable += ' '+fieldNames[6+2*i+1]\n",
    "    for n, ds in inDic.iteritems():\n",
    "        latexTable += ' & ' + '{:.2f}'.format(100*ds.getSkimEff(k+'_bare')[0]*ds.effCand['effCAND'][0])\n",
    "    latexTable += ' \\\\\\\\\\n \\hline\\n \\hline\\n'\n",
    "\n",
    "latexTable += r'\\end{tabular}' + '\\n'\n",
    "print latexTable"
   ]
  },
  {
   "cell_type": "code",
   "execution_count": null,
   "metadata": {},
   "outputs": [],
   "source": []
  }
 ],
 "metadata": {
  "kernelspec": {
   "display_name": "Python 2",
   "language": "python",
   "name": "python2"
  },
  "language_info": {
   "codemirror_mode": {
    "name": "ipython",
    "version": 2
   },
   "file_extension": ".py",
   "mimetype": "text/x-python",
   "name": "python",
   "nbconvert_exporter": "python",
   "pygments_lexer": "ipython2",
   "version": "2.7.14+"
  },
  "varInspector": {
   "cols": {
    "lenName": 16,
    "lenType": 16,
    "lenVar": 40
   },
   "kernels_config": {
    "python": {
     "delete_cmd_postfix": "",
     "delete_cmd_prefix": "del ",
     "library": "var_list.py",
     "varRefreshCmd": "print(var_dic_list())"
    },
    "r": {
     "delete_cmd_postfix": ") ",
     "delete_cmd_prefix": "rm(",
     "library": "var_list.r",
     "varRefreshCmd": "cat(var_dic_list()) "
    }
   },
   "types_to_exclude": [
    "module",
    "function",
    "builtin_function_or_method",
    "instance",
    "_Feature"
   ],
   "window_display": false
  }
 },
 "nbformat": 4,
 "nbformat_minor": 2
}
